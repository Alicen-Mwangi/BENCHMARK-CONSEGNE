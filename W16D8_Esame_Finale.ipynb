{
 "cells": [
  {
   "cell_type": "code",
   "execution_count": 1,
   "id": "236f09d4-5228-444e-9c20-a9efd018afbe",
   "metadata": {
    "tags": []
   },
   "outputs": [],
   "source": [
    "import pandas as pd\n",
    "import numpy as np\n",
    "import seaborn as sns\n",
    "import matplotlib.pyplot as plt\n",
    "\n",
    "covid = pd.read_csv(\"../PRATICA/owid-covid-data.csv\")"
   ]
  },
  {
   "cell_type": "markdown",
   "id": "2dbf36ca-bea9-4fc7-acb8-60a6195b98cd",
   "metadata": {},
   "source": [
    "Dimensioni del dataset e le diciture presenti nell'intestazione"
   ]
  },
  {
   "cell_type": "code",
   "execution_count": 2,
   "id": "bd42d088-35ac-460b-aaa1-f2855828f5d9",
   "metadata": {},
   "outputs": [
    {
     "data": {
      "text/plain": [
       "(387249, 67)"
      ]
     },
     "execution_count": 2,
     "metadata": {},
     "output_type": "execute_result"
    }
   ],
   "source": [
    "covid.shape"
   ]
  },
  {
   "cell_type": "code",
   "execution_count": 3,
   "id": "717e1e1c-2874-411a-b0a4-eb88e0796cd9",
   "metadata": {
    "tags": []
   },
   "outputs": [
    {
     "data": {
      "text/plain": [
       "iso_code                                    object\n",
       "continent                                   object\n",
       "location                                    object\n",
       "date                                        object\n",
       "total_cases                                float64\n",
       "                                            ...   \n",
       "population                                 float64\n",
       "excess_mortality_cumulative_absolute       float64\n",
       "excess_mortality_cumulative                float64\n",
       "excess_mortality                           float64\n",
       "excess_mortality_cumulative_per_million    float64\n",
       "Length: 67, dtype: object"
      ]
     },
     "execution_count": 3,
     "metadata": {},
     "output_type": "execute_result"
    }
   ],
   "source": [
    "covid.dtypes"
   ]
  },
  {
   "cell_type": "code",
   "execution_count": 4,
   "id": "9d311bb7-50b6-4b61-a9dc-a65f2c3f45c8",
   "metadata": {
    "tags": []
   },
   "outputs": [
    {
     "data": {
      "text/html": [
       "<div>\n",
       "<style scoped>\n",
       "    .dataframe tbody tr th:only-of-type {\n",
       "        vertical-align: middle;\n",
       "    }\n",
       "\n",
       "    .dataframe tbody tr th {\n",
       "        vertical-align: top;\n",
       "    }\n",
       "\n",
       "    .dataframe thead th {\n",
       "        text-align: right;\n",
       "    }\n",
       "</style>\n",
       "<table border=\"1\" class=\"dataframe\">\n",
       "  <thead>\n",
       "    <tr style=\"text-align: right;\">\n",
       "      <th></th>\n",
       "      <th>iso_code</th>\n",
       "      <th>continent</th>\n",
       "      <th>location</th>\n",
       "      <th>date</th>\n",
       "      <th>total_cases</th>\n",
       "      <th>new_cases</th>\n",
       "      <th>new_cases_smoothed</th>\n",
       "      <th>total_deaths</th>\n",
       "      <th>new_deaths</th>\n",
       "      <th>new_deaths_smoothed</th>\n",
       "      <th>...</th>\n",
       "      <th>male_smokers</th>\n",
       "      <th>handwashing_facilities</th>\n",
       "      <th>hospital_beds_per_thousand</th>\n",
       "      <th>life_expectancy</th>\n",
       "      <th>human_development_index</th>\n",
       "      <th>population</th>\n",
       "      <th>excess_mortality_cumulative_absolute</th>\n",
       "      <th>excess_mortality_cumulative</th>\n",
       "      <th>excess_mortality</th>\n",
       "      <th>excess_mortality_cumulative_per_million</th>\n",
       "    </tr>\n",
       "  </thead>\n",
       "  <tbody>\n",
       "    <tr>\n",
       "      <th>101592</th>\n",
       "      <td>ERI</td>\n",
       "      <td>Africa</td>\n",
       "      <td>Eritrea</td>\n",
       "      <td>2021-03-17</td>\n",
       "      <td>3038.0</td>\n",
       "      <td>0.0</td>\n",
       "      <td>13.429</td>\n",
       "      <td>7.0</td>\n",
       "      <td>0.0</td>\n",
       "      <td>0.000</td>\n",
       "      <td>...</td>\n",
       "      <td>11.4</td>\n",
       "      <td>NaN</td>\n",
       "      <td>0.70</td>\n",
       "      <td>66.32</td>\n",
       "      <td>0.459</td>\n",
       "      <td>3.684041e+06</td>\n",
       "      <td>NaN</td>\n",
       "      <td>NaN</td>\n",
       "      <td>NaN</td>\n",
       "      <td>NaN</td>\n",
       "    </tr>\n",
       "    <tr>\n",
       "      <th>287853</th>\n",
       "      <td>BLM</td>\n",
       "      <td>North America</td>\n",
       "      <td>Saint Barthelemy</td>\n",
       "      <td>2023-02-22</td>\n",
       "      <td>5439.0</td>\n",
       "      <td>0.0</td>\n",
       "      <td>0.571</td>\n",
       "      <td>5.0</td>\n",
       "      <td>0.0</td>\n",
       "      <td>0.000</td>\n",
       "      <td>...</td>\n",
       "      <td>NaN</td>\n",
       "      <td>NaN</td>\n",
       "      <td>NaN</td>\n",
       "      <td>NaN</td>\n",
       "      <td>NaN</td>\n",
       "      <td>1.099400e+04</td>\n",
       "      <td>NaN</td>\n",
       "      <td>NaN</td>\n",
       "      <td>NaN</td>\n",
       "      <td>NaN</td>\n",
       "    </tr>\n",
       "    <tr>\n",
       "      <th>148354</th>\n",
       "      <td>OWID_HIC</td>\n",
       "      <td>NaN</td>\n",
       "      <td>High income</td>\n",
       "      <td>2023-02-04</td>\n",
       "      <td>411625232.0</td>\n",
       "      <td>0.0</td>\n",
       "      <td>169230.000</td>\n",
       "      <td>2805362.0</td>\n",
       "      <td>0.0</td>\n",
       "      <td>955.714</td>\n",
       "      <td>...</td>\n",
       "      <td>NaN</td>\n",
       "      <td>NaN</td>\n",
       "      <td>NaN</td>\n",
       "      <td>NaN</td>\n",
       "      <td>NaN</td>\n",
       "      <td>1.250515e+09</td>\n",
       "      <td>NaN</td>\n",
       "      <td>NaN</td>\n",
       "      <td>NaN</td>\n",
       "      <td>NaN</td>\n",
       "    </tr>\n",
       "    <tr>\n",
       "      <th>17357</th>\n",
       "      <td>ABW</td>\n",
       "      <td>North America</td>\n",
       "      <td>Aruba</td>\n",
       "      <td>2021-04-28</td>\n",
       "      <td>10469.0</td>\n",
       "      <td>0.0</td>\n",
       "      <td>35.714</td>\n",
       "      <td>95.0</td>\n",
       "      <td>0.0</td>\n",
       "      <td>0.429</td>\n",
       "      <td>...</td>\n",
       "      <td>NaN</td>\n",
       "      <td>NaN</td>\n",
       "      <td>NaN</td>\n",
       "      <td>76.29</td>\n",
       "      <td>NaN</td>\n",
       "      <td>1.064590e+05</td>\n",
       "      <td>NaN</td>\n",
       "      <td>NaN</td>\n",
       "      <td>NaN</td>\n",
       "      <td>NaN</td>\n",
       "    </tr>\n",
       "    <tr>\n",
       "      <th>324563</th>\n",
       "      <td>KOR</td>\n",
       "      <td>Asia</td>\n",
       "      <td>South Korea</td>\n",
       "      <td>2023-06-25</td>\n",
       "      <td>32018486.0</td>\n",
       "      <td>113819.0</td>\n",
       "      <td>16259.857</td>\n",
       "      <td>35017.0</td>\n",
       "      <td>57.0</td>\n",
       "      <td>8.143</td>\n",
       "      <td>...</td>\n",
       "      <td>40.9</td>\n",
       "      <td>NaN</td>\n",
       "      <td>12.27</td>\n",
       "      <td>83.03</td>\n",
       "      <td>0.916</td>\n",
       "      <td>5.181581e+07</td>\n",
       "      <td>75753.484</td>\n",
       "      <td>6.95</td>\n",
       "      <td>6.43</td>\n",
       "      <td>1462.8727</td>\n",
       "    </tr>\n",
       "  </tbody>\n",
       "</table>\n",
       "<p>5 rows × 67 columns</p>\n",
       "</div>"
      ],
      "text/plain": [
       "        iso_code      continent          location        date  total_cases  \\\n",
       "101592       ERI         Africa           Eritrea  2021-03-17       3038.0   \n",
       "287853       BLM  North America  Saint Barthelemy  2023-02-22       5439.0   \n",
       "148354  OWID_HIC            NaN       High income  2023-02-04  411625232.0   \n",
       "17357        ABW  North America             Aruba  2021-04-28      10469.0   \n",
       "324563       KOR           Asia       South Korea  2023-06-25   32018486.0   \n",
       "\n",
       "        new_cases  new_cases_smoothed  total_deaths  new_deaths  \\\n",
       "101592        0.0              13.429           7.0         0.0   \n",
       "287853        0.0               0.571           5.0         0.0   \n",
       "148354        0.0          169230.000     2805362.0         0.0   \n",
       "17357         0.0              35.714          95.0         0.0   \n",
       "324563   113819.0           16259.857       35017.0        57.0   \n",
       "\n",
       "        new_deaths_smoothed  ...  male_smokers  handwashing_facilities  \\\n",
       "101592                0.000  ...          11.4                     NaN   \n",
       "287853                0.000  ...           NaN                     NaN   \n",
       "148354              955.714  ...           NaN                     NaN   \n",
       "17357                 0.429  ...           NaN                     NaN   \n",
       "324563                8.143  ...          40.9                     NaN   \n",
       "\n",
       "        hospital_beds_per_thousand  life_expectancy  human_development_index  \\\n",
       "101592                        0.70            66.32                    0.459   \n",
       "287853                         NaN              NaN                      NaN   \n",
       "148354                         NaN              NaN                      NaN   \n",
       "17357                          NaN            76.29                      NaN   \n",
       "324563                       12.27            83.03                    0.916   \n",
       "\n",
       "          population  excess_mortality_cumulative_absolute  \\\n",
       "101592  3.684041e+06                                   NaN   \n",
       "287853  1.099400e+04                                   NaN   \n",
       "148354  1.250515e+09                                   NaN   \n",
       "17357   1.064590e+05                                   NaN   \n",
       "324563  5.181581e+07                             75753.484   \n",
       "\n",
       "        excess_mortality_cumulative  excess_mortality  \\\n",
       "101592                          NaN               NaN   \n",
       "287853                          NaN               NaN   \n",
       "148354                          NaN               NaN   \n",
       "17357                           NaN               NaN   \n",
       "324563                         6.95              6.43   \n",
       "\n",
       "        excess_mortality_cumulative_per_million  \n",
       "101592                                      NaN  \n",
       "287853                                      NaN  \n",
       "148354                                      NaN  \n",
       "17357                                       NaN  \n",
       "324563                                1462.8727  \n",
       "\n",
       "[5 rows x 67 columns]"
      ]
     },
     "execution_count": 4,
     "metadata": {},
     "output_type": "execute_result"
    }
   ],
   "source": [
    "covid.columns\n",
    "covid.sample(5)"
   ]
  },
  {
   "cell_type": "markdown",
   "id": "639e630b-f2f1-40e1-8bf1-d7ada7600574",
   "metadata": {},
   "source": [
    "* Si chiede poi per ogni continente di trovare il numero di casi totali avvenuti in quello stesso continente; si chiede di non considerare eventuali locazioni che nel dataset non appartengono ad alcun continente"
   ]
  },
  {
   "cell_type": "code",
   "execution_count": 5,
   "id": "dc13e48e-913b-4cdb-8140-f2f63c44681d",
   "metadata": {},
   "outputs": [
    {
     "data": {
      "text/plain": [
       "18527"
      ]
     },
     "execution_count": 5,
     "metadata": {},
     "output_type": "execute_result"
    }
   ],
   "source": [
    "covid.continent.isnull().sum()"
   ]
  },
  {
   "cell_type": "code",
   "execution_count": 6,
   "id": "9098b9ab-b76a-4b3d-bd51-67380e26b81e",
   "metadata": {
    "tags": []
   },
   "outputs": [
    {
     "data": {
      "text/plain": [
       "775021816.0"
      ]
     },
     "execution_count": 6,
     "metadata": {},
     "output_type": "execute_result"
    }
   ],
   "source": [
    "#Total cases for all locations assigned to a continent\n",
    "filter_continent = covid.continent.isna()\n",
    "filter_continent = ~ filter_continent\n",
    "filter_continent.value_counts()\n",
    "continent_cases = covid.new_cases.loc[filter_continent].sum()\n",
    "continent_cases"
   ]
  },
  {
   "cell_type": "code",
   "execution_count": 7,
   "id": "87b89401-0573-4c01-8796-1eb24099e7f9",
   "metadata": {
    "tags": []
   },
   "outputs": [
    {
     "data": {
      "text/plain": [
       "continent\n",
       "Africa            13141282.0\n",
       "Asia             301446461.0\n",
       "Europe           252376812.0\n",
       "North America    124530643.0\n",
       "Oceania           14808170.0\n",
       "South America     68718448.0\n",
       "Name: new_cases, dtype: float64"
      ]
     },
     "execution_count": 7,
     "metadata": {},
     "output_type": "execute_result"
    }
   ],
   "source": [
    "#Total cases per continent. Locations not assigned to a  continent are not considered.\n",
    "covid_grouped = covid.groupby(\"continent\")\n",
    "total_continent_cases = covid_grouped.new_cases.sum()\n",
    "total_continent_cases"
   ]
  },
  {
   "cell_type": "markdown",
   "id": "b073ce06-9e21-4e44-976f-9758a1056cc3",
   "metadata": {},
   "source": [
    "Sempre riguardo i casi di COVID totali, si chiede di sviluppare una funzione che prenda in input il dataset e due nomi di continenti, e che ne confronti i seguenti relativi descrittori statistici: valori minimo e massimo, media, e percentuale rispetto al numero dei casi totali nel mondo (calcolati anche sulle locazioni senza indicazione di continente);"
   ]
  },
  {
   "cell_type": "code",
   "execution_count": 8,
   "id": "29ec37c1-41dd-4682-9b0c-4d1b3afe8193",
   "metadata": {
    "tags": []
   },
   "outputs": [
    {
     "data": {
      "text/html": [
       "<div>\n",
       "<style scoped>\n",
       "    .dataframe tbody tr th:only-of-type {\n",
       "        vertical-align: middle;\n",
       "    }\n",
       "\n",
       "    .dataframe tbody tr th {\n",
       "        vertical-align: top;\n",
       "    }\n",
       "\n",
       "    .dataframe thead th {\n",
       "        text-align: right;\n",
       "    }\n",
       "</style>\n",
       "<table border=\"1\" class=\"dataframe\">\n",
       "  <thead>\n",
       "    <tr style=\"text-align: right;\">\n",
       "      <th></th>\n",
       "      <th>count</th>\n",
       "      <th>mean</th>\n",
       "      <th>std</th>\n",
       "      <th>min</th>\n",
       "      <th>25%</th>\n",
       "      <th>50%</th>\n",
       "      <th>75%</th>\n",
       "      <th>max</th>\n",
       "    </tr>\n",
       "    <tr>\n",
       "      <th>continent_b</th>\n",
       "      <th></th>\n",
       "      <th></th>\n",
       "      <th></th>\n",
       "      <th></th>\n",
       "      <th></th>\n",
       "      <th></th>\n",
       "      <th></th>\n",
       "      <th></th>\n",
       "    </tr>\n",
       "  </thead>\n",
       "  <tbody>\n",
       "    <tr>\n",
       "      <th>Africa</th>\n",
       "      <td>82230.0</td>\n",
       "      <td>1.553786e+05</td>\n",
       "      <td>4.540602e+05</td>\n",
       "      <td>1.0</td>\n",
       "      <td>8060.0</td>\n",
       "      <td>32811.5</td>\n",
       "      <td>1.141108e+05</td>\n",
       "      <td>4072636.0</td>\n",
       "    </tr>\n",
       "    <tr>\n",
       "      <th>Asia</th>\n",
       "      <td>65964.0</td>\n",
       "      <td>3.183043e+06</td>\n",
       "      <td>1.047887e+07</td>\n",
       "      <td>1.0</td>\n",
       "      <td>58519.0</td>\n",
       "      <td>399449.0</td>\n",
       "      <td>1.502857e+06</td>\n",
       "      <td>99343195.0</td>\n",
       "    </tr>\n",
       "    <tr>\n",
       "      <th>Europe</th>\n",
       "      <td>75448.0</td>\n",
       "      <td>2.669240e+06</td>\n",
       "      <td>6.402988e+06</td>\n",
       "      <td>1.0</td>\n",
       "      <td>26408.0</td>\n",
       "      <td>343732.0</td>\n",
       "      <td>1.879480e+06</td>\n",
       "      <td>38997490.0</td>\n",
       "    </tr>\n",
       "    <tr>\n",
       "      <th>North America</th>\n",
       "      <td>59954.0</td>\n",
       "      <td>1.829112e+06</td>\n",
       "      <td>1.138676e+07</td>\n",
       "      <td>1.0</td>\n",
       "      <td>2922.0</td>\n",
       "      <td>14057.0</td>\n",
       "      <td>1.545380e+05</td>\n",
       "      <td>103436829.0</td>\n",
       "    </tr>\n",
       "    <tr>\n",
       "      <th>Oceania</th>\n",
       "      <td>26008.0</td>\n",
       "      <td>3.655040e+05</td>\n",
       "      <td>1.744544e+06</td>\n",
       "      <td>1.0</td>\n",
       "      <td>311.0</td>\n",
       "      <td>7203.0</td>\n",
       "      <td>2.654700e+04</td>\n",
       "      <td>11812024.0</td>\n",
       "    </tr>\n",
       "    <tr>\n",
       "      <th>South America</th>\n",
       "      <td>20538.0</td>\n",
       "      <td>3.108587e+06</td>\n",
       "      <td>7.185748e+06</td>\n",
       "      <td>1.0</td>\n",
       "      <td>66385.0</td>\n",
       "      <td>537842.0</td>\n",
       "      <td>2.251027e+06</td>\n",
       "      <td>37519960.0</td>\n",
       "    </tr>\n",
       "    <tr>\n",
       "      <th>unassigned</th>\n",
       "      <td>18191.0</td>\n",
       "      <td>1.080660e+08</td>\n",
       "      <td>1.589554e+08</td>\n",
       "      <td>1.0</td>\n",
       "      <td>4590965.0</td>\n",
       "      <td>44454327.0</td>\n",
       "      <td>1.411226e+08</td>\n",
       "      <td>774954379.0</td>\n",
       "    </tr>\n",
       "  </tbody>\n",
       "</table>\n",
       "</div>"
      ],
      "text/plain": [
       "                 count          mean           std  min        25%  \\\n",
       "continent_b                                                          \n",
       "Africa         82230.0  1.553786e+05  4.540602e+05  1.0     8060.0   \n",
       "Asia           65964.0  3.183043e+06  1.047887e+07  1.0    58519.0   \n",
       "Europe         75448.0  2.669240e+06  6.402988e+06  1.0    26408.0   \n",
       "North America  59954.0  1.829112e+06  1.138676e+07  1.0     2922.0   \n",
       "Oceania        26008.0  3.655040e+05  1.744544e+06  1.0      311.0   \n",
       "South America  20538.0  3.108587e+06  7.185748e+06  1.0    66385.0   \n",
       "unassigned     18191.0  1.080660e+08  1.589554e+08  1.0  4590965.0   \n",
       "\n",
       "                      50%           75%          max  \n",
       "continent_b                                           \n",
       "Africa            32811.5  1.141108e+05    4072636.0  \n",
       "Asia             399449.0  1.502857e+06   99343195.0  \n",
       "Europe           343732.0  1.879480e+06   38997490.0  \n",
       "North America     14057.0  1.545380e+05  103436829.0  \n",
       "Oceania            7203.0  2.654700e+04   11812024.0  \n",
       "South America    537842.0  2.251027e+06   37519960.0  \n",
       "unassigned     44454327.0  1.411226e+08  774954379.0  "
      ]
     },
     "execution_count": 8,
     "metadata": {},
     "output_type": "execute_result"
    }
   ],
   "source": [
    "#filtering null values in \"continent\" and replacing with \"unassigned\" in a new column named \"continent_b\"\n",
    "covid[\"continent_b\"] = covid[\"continent\"].replace(np.nan,\"unassigned\")\n",
    "grouped_covid_cont = covid.groupby(\"continent_b\")\n",
    "desc_covid =grouped_covid_cont.total_cases.describe()\n",
    "desc_covid"
   ]
  },
  {
   "cell_type": "markdown",
   "id": "c7140871-6426-4207-bd0d-93c89fe0d627",
   "metadata": {},
   "source": [
    "Selezionare i dati relativi all'Italia nel 2022, e mostrare con un grafico adeguato l'evoluzione del casi totali rispetto alla data. Mostrare poi con un grafico adeguato il numero di nuovi casi rispetto alla data (filtrare i dati se necessario). Mostrare infine un grafico che mostra l'andamento della somma cumulativa nuovi casi del 2022, e commentare se ci sono similarità con l'andamento del numero dei casi totali"
   ]
  },
  {
   "cell_type": "code",
   "execution_count": 9,
   "id": "57ae5e95-0ac2-45ce-9946-fd29241e52d3",
   "metadata": {
    "tags": []
   },
   "outputs": [
    {
     "data": {
      "image/png": "[encoded data removed]",
      "text/plain": [
       "<Figure size 1000x600 with 1 Axes>"
      ]
     },
     "metadata": {},
     "output_type": "display_data"
    }
   ],
   "source": [
    "#changing date column data to date format\n",
    "covid['date'] = pd.to_datetime(covid['date'])\n",
    "\n",
    "# Filtering data for Italy - year 2022\n",
    "italy_data_2022 = covid[(covid['location'] == 'Italy') & (covid['date'].dt.year == 2022)]\n",
    "plt.figure(figsize=(10, 6))\n",
    "plt.plot(italy_data_2022['date'], italy_data_2022['new_cases'], linestyle='-')\n",
    "\n",
    "# Adding labels and title\n",
    "plt.title('New COVID-19 Cases in Italy (2022)')\n",
    "plt.xlabel('Date')\n",
    "plt.ylabel('New Cases')\n",
    "plt.grid(True)             "
   ]
  },
  {
   "cell_type": "code",
   "execution_count": 18,
   "id": "0cfa176a-966a-4a55-b2b4-0c0e47ac54ae",
   "metadata": {
    "tags": []
   },
   "outputs": [
    {
     "data": {
      "text/plain": [
       "Text(0.5, 1.0, ' Cumulative Cases of Covid-19 in Italy 2022')"
      ]
     },
     "execution_count": 18,
     "metadata": {},
     "output_type": "execute_result"
    },
    {
     "data": {
      "image/png": "[encoded data removed]",
      "text/plain": [
       "<Figure size 640x480 with 1 Axes>"
      ]
     },
     "metadata": {},
     "output_type": "display_data"
    }
   ],
   "source": [
    "italy_data_2022[\"cum_italy\"] = covid.new_cases.cumsum()\n",
    "#date_2022 = covid[\"date\"].dt.year == 2022\n",
    "plt.plot(italy_data_2022[\"date\"], italy_data_2022[\"cum_italy\"])\n",
    "plt.xlabel(\"Months\")\n",
    "plt.ylabel(\"No. Of Cases\")\n",
    "plt.title(\" Cumulative Cases of Covid-19 in Italy 2022\")"
   ]
  },
  {
   "cell_type": "code",
   "execution_count": null,
   "id": "c8de37f8-a734-42f2-97f4-31a5e2f80db4",
   "metadata": {},
   "outputs": [],
   "source": []
  },
  {
   "cell_type": "markdown",
   "id": "19d137c5-63a9-42d9-b6a2-2397b5c5da77",
   "metadata": {},
   "source": [
    "Riguardo le nazioni di Italia, Germania e Francia, mostrare in un boxplot la differenza tra queste nazioni riguardo il numero di pazienti in terapia intensiva (Intensive Care Unit, ICU) da maggio 2022 (incluso) ad aprile 2023 (incluso), e scrivere un breve commento a riguardo;"
   ]
  },
  {
   "cell_type": "code",
   "execution_count": 17,
   "id": "ba19e9da-7284-4ad5-ab3b-62e5ee65f4a8",
   "metadata": {
    "tags": []
   },
   "outputs": [
    {
     "data": {
      "image/png": "[encoded data removed]",
      "text/plain": [
       "<Figure size 1000x600 with 1 Axes>"
      ]
     },
     "metadata": {},
     "output_type": "display_data"
    },
    {
     "data": {
      "text/html": [
       "<div>\n",
       "<style scoped>\n",
       "    .dataframe tbody tr th:only-of-type {\n",
       "        vertical-align: middle;\n",
       "    }\n",
       "\n",
       "    .dataframe tbody tr th {\n",
       "        vertical-align: top;\n",
       "    }\n",
       "\n",
       "    .dataframe thead th {\n",
       "        text-align: right;\n",
       "    }\n",
       "</style>\n",
       "<table border=\"1\" class=\"dataframe\">\n",
       "  <thead>\n",
       "    <tr style=\"text-align: right;\">\n",
       "      <th></th>\n",
       "      <th>count</th>\n",
       "      <th>mean</th>\n",
       "      <th>std</th>\n",
       "      <th>min</th>\n",
       "      <th>25%</th>\n",
       "      <th>50%</th>\n",
       "      <th>75%</th>\n",
       "      <th>max</th>\n",
       "    </tr>\n",
       "    <tr>\n",
       "      <th>location</th>\n",
       "      <th></th>\n",
       "      <th></th>\n",
       "      <th></th>\n",
       "      <th></th>\n",
       "      <th></th>\n",
       "      <th></th>\n",
       "      <th></th>\n",
       "      <th></th>\n",
       "    </tr>\n",
       "  </thead>\n",
       "  <tbody>\n",
       "    <tr>\n",
       "      <th>France</th>\n",
       "      <td>335.0</td>\n",
       "      <td>998.379104</td>\n",
       "      <td>220.152715</td>\n",
       "      <td>699.0</td>\n",
       "      <td>803.0</td>\n",
       "      <td>972.0</td>\n",
       "      <td>1145.5</td>\n",
       "      <td>1557.0</td>\n",
       "    </tr>\n",
       "    <tr>\n",
       "      <th>Germany</th>\n",
       "      <td>365.0</td>\n",
       "      <td>1022.386301</td>\n",
       "      <td>306.113714</td>\n",
       "      <td>512.0</td>\n",
       "      <td>753.0</td>\n",
       "      <td>994.0</td>\n",
       "      <td>1221.0</td>\n",
       "      <td>1842.0</td>\n",
       "    </tr>\n",
       "    <tr>\n",
       "      <th>Italy</th>\n",
       "      <td>365.0</td>\n",
       "      <td>231.254795</td>\n",
       "      <td>91.607400</td>\n",
       "      <td>82.0</td>\n",
       "      <td>157.0</td>\n",
       "      <td>227.0</td>\n",
       "      <td>310.0</td>\n",
       "      <td>434.0</td>\n",
       "    </tr>\n",
       "    <tr>\n",
       "      <th>Spain</th>\n",
       "      <td>365.0</td>\n",
       "      <td>233.128767</td>\n",
       "      <td>119.054920</td>\n",
       "      <td>84.0</td>\n",
       "      <td>133.0</td>\n",
       "      <td>212.0</td>\n",
       "      <td>332.0</td>\n",
       "      <td>533.0</td>\n",
       "    </tr>\n",
       "  </tbody>\n",
       "</table>\n",
       "</div>"
      ],
      "text/plain": [
       "          count         mean         std    min    25%    50%     75%     max\n",
       "location                                                                     \n",
       "France    335.0   998.379104  220.152715  699.0  803.0  972.0  1145.5  1557.0\n",
       "Germany   365.0  1022.386301  306.113714  512.0  753.0  994.0  1221.0  1842.0\n",
       "Italy     365.0   231.254795   91.607400   82.0  157.0  227.0   310.0   434.0\n",
       "Spain     365.0   233.128767  119.054920   84.0  133.0  212.0   332.0   533.0"
      ]
     },
     "execution_count": 17,
     "metadata": {},
     "output_type": "execute_result"
    }
   ],
   "source": [
    "# Filtering data for Italy, Germany, France, and Spain\n",
    "\n",
    "countries = ['Italy', 'Germany', 'France', 'Spain']\n",
    "filt_data =covid[(covid['location'].isin(countries)) &\n",
    "                   (covid['date'] >= '2022-05-01') & (covid['date'] <= '2023-04-30')]\n",
    "\n",
    "#checking how many null values are in icu_patients column against the total number of rows in the dataset.\n",
    "covid.icu_patients.isna\n",
    "covid.icu_patients.isna().sum()\n",
    "\n",
    "# Removing the null values\n",
    "filt_data.dropna(subset=['icu_patients'], inplace=True) \n",
    "\n",
    "plt.figure(figsize=(10, 6))\n",
    "sns.boxplot(x='location', y='icu_patients', data=filt_data)\n",
    "plt.title('ICU Patients in Italy, Germany, France, and Spain')\n",
    "plt.xlabel('Country')\n",
    "plt.ylabel('Number of ICU Patients')\n",
    "plt.show()\n",
    "#Germany has the highest number of patients in ICU with the highest number as 1845 patients and 75% almost at 1221 patients. \n",
    "#50% of patients in ICU for France and Germany range almost the same at 972 and 994 patients\n",
    "#Italy and Spain have a low number of patients in the period with a min number of around 82 and 84 and max close to 500 and 500 consequetively as shown.\n",
    "filt_data.groupby(\"location\").icu_patients.describe()"
   ]
  },
  {
   "cell_type": "markdown",
   "id": "d5137020-83f9-48d1-9769-b522e5923315",
   "metadata": {},
   "source": [
    "Riguardo le nazioni di Italia, Germania, Francia e Spagna nel 2023, mostrare la somma dei pazienti ospitalizzati per ognuna — se ci sono dati nulli, suggerire se può essere possibile gestirli tramite sostituzione o meno."
   ]
  },
  {
   "cell_type": "code",
   "execution_count": 16,
   "id": "2c772a6e-5edc-4f8d-89ea-bddf647a204f",
   "metadata": {},
   "outputs": [
    {
     "name": "stdout",
     "output_type": "stream",
     "text": [
      "The total number of hostitalized patients in 2023 was : location\n",
      "France     1382574.0\n",
      "Germany          0.0\n",
      "Italy      1175272.0\n",
      "Spain       354602.0\n",
      "Name: hosp_patients, dtype: float64\n"
     ]
    }
   ],
   "source": [
    "data_2023 = (covid['date'].dt.year == 2023)\n",
    "\n",
    "filt_countries_2023 = covid[data_2023 & \n",
    "                   (covid['location'].isin(countries))]\n",
    "\n",
    "#checking total number of null values\n",
    "filt_countries_2023.hosp_patients.isna().sum()\n",
    "\n",
    "#replacing nulls with 0\n",
    "filt_countries_2023['hosp_patients'].fillna(0, inplace=True)\n",
    "\n",
    "#Total number of hospitalized patients in 2023\n",
    "total_hosp_patients = filt_countries_2023.groupby('location')['hosp_patients'].sum()\n",
    "\n",
    "print('The total number of hostitalized patients in 2023 was :',total_hosp_patients)"
   ]
  },
  {
   "cell_type": "code",
   "execution_count": 15,
   "id": "5c1fc7d4-1acf-4f74-b5c8-a16d40f779c2",
   "metadata": {},
   "outputs": [],
   "source": [
    "pd.options.mode.copy_on_write = True "
   ]
  },
  {
   "cell_type": "code",
   "execution_count": null,
   "id": "e6a4f2db-8b7f-4607-b661-205cea488024",
   "metadata": {},
   "outputs": [],
   "source": []
  }
 ],
 "metadata": {
  "kernelspec": {
   "display_name": "Python 3 (ipykernel)",
   "language": "python",
   "name": "python3"
  },
  "language_info": {
   "codemirror_mode": {
    "name": "ipython",
    "version": 3
   },
   "file_extension": ".py",
   "mimetype": "text/x-python",
   "name": "python",
   "nbconvert_exporter": "python",
   "pygments_lexer": "ipython3",
   "version": "3.11.5"
  }
 },
 "nbformat": 4,
 "nbformat_minor": 5
}
